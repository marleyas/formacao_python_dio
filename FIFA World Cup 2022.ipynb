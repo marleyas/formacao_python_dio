https://colab.research.google.com/drive/147q--HKvgqWDS2HlXdlPHdW29CXDWeYa#scrollTo=31AJaLn6dO_l
